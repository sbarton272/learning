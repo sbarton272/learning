{
 "cells": [
  {
   "cell_type": "markdown",
   "id": "d1836b7f-9911-4261-a638-821e91b2b985",
   "metadata": {},
   "source": [
    "# Pyro Example\n",
    "\n",
    "Starting from https://github.com/swbg/pyro-hackers/blob/main/notebooks/chapter_02.ipynb"
   ]
  },
  {
   "cell_type": "code",
   "execution_count": 1,
   "id": "26f87aa1-a2e6-475b-8cb1-48cde3f1a143",
   "metadata": {},
   "outputs": [],
   "source": [
    "import numpy as np\n",
    "import pyro\n",
    "import pyro.distributions as dist\n",
    "import requests\n",
    "import torch\n",
    "from pyro.infer import MCMC, NUTS\n",
    "from pyro.infer.predictive import Predictive\n",
    "import pandas as pd\n",
    "import seaborn as sns"
   ]
  },
  {
   "cell_type": "code",
   "execution_count": 2,
   "id": "4dd7ee33-5bec-4cfe-befd-03c3812863dc",
   "metadata": {},
   "outputs": [],
   "source": [
    "data = pd.read_csv('https://raw.githubusercontent.com/CamDavidsonPilon/Probabilistic-Programming-and-Bayesian-Methods-for-Hackers/master/Chapter2_MorePyMC/data/challenger_data.csv')"
   ]
  },
  {
   "cell_type": "code",
   "execution_count": 3,
   "id": "402fe046-8bbd-4501-a5b1-b7bac68c6382",
   "metadata": {},
   "outputs": [],
   "source": [
    "data = data.dropna()"
   ]
  },
  {
   "cell_type": "code",
   "execution_count": 4,
   "id": "2b05532b-624a-4cce-b40c-4477b9897f9b",
   "metadata": {},
   "outputs": [],
   "source": [
    "data['Damage Incident'] = data['Damage Incident'].replace({'Challenger Accident': 1}).astype(int)"
   ]
  },
  {
   "cell_type": "code",
   "execution_count": 5,
   "id": "bceb2f09-7cac-44a1-80d3-7345845a1d13",
   "metadata": {},
   "outputs": [
    {
     "name": "stdout",
     "output_type": "stream",
     "text": [
      "<class 'pandas.core.frame.DataFrame'>\n",
      "Int64Index: 24 entries, 0 to 24\n",
      "Data columns (total 3 columns):\n",
      " #   Column           Non-Null Count  Dtype \n",
      "---  ------           --------------  ----- \n",
      " 0   Date             24 non-null     object\n",
      " 1   Temperature      24 non-null     int64 \n",
      " 2   Damage Incident  24 non-null     int64 \n",
      "dtypes: int64(2), object(1)\n",
      "memory usage: 768.0+ bytes\n"
     ]
    }
   ],
   "source": [
    "data.info()"
   ]
  },
  {
   "cell_type": "code",
   "execution_count": 6,
   "id": "3be6a968-d361-41e0-bef2-a8521aa48d8c",
   "metadata": {},
   "outputs": [],
   "source": [
    "temperatures = torch.tensor(data['Temperature'], dtype=torch.float64)\n",
    "failures = torch.tensor(data['Damage Incident'], dtype=torch.float64)"
   ]
  },
  {
   "cell_type": "code",
   "execution_count": 7,
   "id": "b53177f9-4ad5-417f-8d3a-37ecbd2c0684",
   "metadata": {},
   "outputs": [],
   "source": [
    "def challenger_model(temperatures, failures):\n",
    "    alpha = pyro.sample(\"alpha\", dist.Normal(0, 10))\n",
    "    beta = pyro.sample(\"beta\", dist.Normal(0, 10))\n",
    "\n",
    "    logits = alpha + beta * temperatures\n",
    "\n",
    "    with pyro.plate(\"plate\", temperatures.shape[0]):\n",
    "        pyro.sample(\"failures\", dist.Bernoulli(logits=logits), obs=failures)"
   ]
  },
  {
   "cell_type": "code",
   "execution_count": 38,
   "id": "86298513-5c9f-486d-ba37-06bd3c8a20f3",
   "metadata": {},
   "outputs": [
    {
     "ename": "ImportError",
     "evalue": "Looks like you want to use graphviz (https://graphviz.org/) to render your model. You need to install `graphviz` to be able to use this feature. It can be installed with `pip install graphviz`.",
     "output_type": "error",
     "traceback": [
      "\u001b[0;31m---------------------------------------------------------------------------\u001b[0m",
      "\u001b[0;31mModuleNotFoundError\u001b[0m                       Traceback (most recent call last)",
      "File \u001b[0;32m~/Library/Caches/pypoetry/virtualenvs/bayesian-function-fit-qdzAiiby-py3.9/lib/python3.9/site-packages/pyro/infer/inspect.py:447\u001b[0m, in \u001b[0;36mrender_graph\u001b[0;34m(graph_specification, render_distributions)\u001b[0m\n\u001b[1;32m    446\u001b[0m \u001b[38;5;28;01mtry\u001b[39;00m:\n\u001b[0;32m--> 447\u001b[0m     \u001b[38;5;28;01mimport\u001b[39;00m \u001b[38;5;21;01mgraphviz\u001b[39;00m  \u001b[38;5;66;03m# noqa: F401\u001b[39;00m\n\u001b[1;32m    448\u001b[0m \u001b[38;5;28;01mexcept\u001b[39;00m \u001b[38;5;167;01mImportError\u001b[39;00m \u001b[38;5;28;01mas\u001b[39;00m e:\n",
      "\u001b[0;31mModuleNotFoundError\u001b[0m: No module named 'graphviz'",
      "\nThe above exception was the direct cause of the following exception:\n",
      "\u001b[0;31mImportError\u001b[0m                               Traceback (most recent call last)",
      "Input \u001b[0;32mIn [38]\u001b[0m, in \u001b[0;36m<cell line: 1>\u001b[0;34m()\u001b[0m\n\u001b[0;32m----> 1\u001b[0m \u001b[43mpyro\u001b[49m\u001b[38;5;241;43m.\u001b[39;49m\u001b[43mrender_model\u001b[49m\u001b[43m(\u001b[49m\u001b[43mchallenger_model\u001b[49m\u001b[43m,\u001b[49m\u001b[43m \u001b[49m\u001b[43m(\u001b[49m\u001b[43mtemperatures\u001b[49m\u001b[43m,\u001b[49m\u001b[43m \u001b[49m\u001b[43mfailures\u001b[49m\u001b[43m)\u001b[49m\u001b[43m)\u001b[49m\n",
      "File \u001b[0;32m~/Library/Caches/pypoetry/virtualenvs/bayesian-function-fit-qdzAiiby-py3.9/lib/python3.9/site-packages/pyro/infer/inspect.py:554\u001b[0m, in \u001b[0;36mrender_model\u001b[0;34m(model, model_args, model_kwargs, filename, render_distributions, render_params)\u001b[0m\n\u001b[1;32m    552\u001b[0m relations \u001b[38;5;241m=\u001b[39m get_model_relations(model, model_args, model_kwargs)\n\u001b[1;32m    553\u001b[0m graph_spec \u001b[38;5;241m=\u001b[39m generate_graph_specification(relations, render_params\u001b[38;5;241m=\u001b[39mrender_params)\n\u001b[0;32m--> 554\u001b[0m graph \u001b[38;5;241m=\u001b[39m \u001b[43mrender_graph\u001b[49m\u001b[43m(\u001b[49m\u001b[43mgraph_spec\u001b[49m\u001b[43m,\u001b[49m\u001b[43m \u001b[49m\u001b[43mrender_distributions\u001b[49m\u001b[38;5;241;43m=\u001b[39;49m\u001b[43mrender_distributions\u001b[49m\u001b[43m)\u001b[49m\n\u001b[1;32m    556\u001b[0m \u001b[38;5;28;01mif\u001b[39;00m filename \u001b[38;5;129;01mis\u001b[39;00m \u001b[38;5;129;01mnot\u001b[39;00m \u001b[38;5;28;01mNone\u001b[39;00m:\n\u001b[1;32m    557\u001b[0m     filename \u001b[38;5;241m=\u001b[39m Path(filename)\n",
      "File \u001b[0;32m~/Library/Caches/pypoetry/virtualenvs/bayesian-function-fit-qdzAiiby-py3.9/lib/python3.9/site-packages/pyro/infer/inspect.py:449\u001b[0m, in \u001b[0;36mrender_graph\u001b[0;34m(graph_specification, render_distributions)\u001b[0m\n\u001b[1;32m    447\u001b[0m     \u001b[38;5;28;01mimport\u001b[39;00m \u001b[38;5;21;01mgraphviz\u001b[39;00m  \u001b[38;5;66;03m# noqa: F401\u001b[39;00m\n\u001b[1;32m    448\u001b[0m \u001b[38;5;28;01mexcept\u001b[39;00m \u001b[38;5;167;01mImportError\u001b[39;00m \u001b[38;5;28;01mas\u001b[39;00m e:\n\u001b[0;32m--> 449\u001b[0m     \u001b[38;5;28;01mraise\u001b[39;00m \u001b[38;5;167;01mImportError\u001b[39;00m(\n\u001b[1;32m    450\u001b[0m         \u001b[38;5;124m\"\u001b[39m\u001b[38;5;124mLooks like you want to use graphviz (https://graphviz.org/) \u001b[39m\u001b[38;5;124m\"\u001b[39m\n\u001b[1;32m    451\u001b[0m         \u001b[38;5;124m\"\u001b[39m\u001b[38;5;124mto render your model. \u001b[39m\u001b[38;5;124m\"\u001b[39m\n\u001b[1;32m    452\u001b[0m         \u001b[38;5;124m\"\u001b[39m\u001b[38;5;124mYou need to install `graphviz` to be able to use this feature. \u001b[39m\u001b[38;5;124m\"\u001b[39m\n\u001b[1;32m    453\u001b[0m         \u001b[38;5;124m\"\u001b[39m\u001b[38;5;124mIt can be installed with `pip install graphviz`.\u001b[39m\u001b[38;5;124m\"\u001b[39m\n\u001b[1;32m    454\u001b[0m     ) \u001b[38;5;28;01mfrom\u001b[39;00m \u001b[38;5;21;01me\u001b[39;00m\n\u001b[1;32m    456\u001b[0m plate_groups \u001b[38;5;241m=\u001b[39m graph_specification[\u001b[38;5;124m\"\u001b[39m\u001b[38;5;124mplate_groups\u001b[39m\u001b[38;5;124m\"\u001b[39m]\n\u001b[1;32m    457\u001b[0m plate_data \u001b[38;5;241m=\u001b[39m graph_specification[\u001b[38;5;124m\"\u001b[39m\u001b[38;5;124mplate_data\u001b[39m\u001b[38;5;124m\"\u001b[39m]\n",
      "\u001b[0;31mImportError\u001b[0m: Looks like you want to use graphviz (https://graphviz.org/) to render your model. You need to install `graphviz` to be able to use this feature. It can be installed with `pip install graphviz`."
     ]
    }
   ],
   "source": [
    "pyro.render_model(challenger_model, (temperatures, failures))"
   ]
  },
  {
   "cell_type": "code",
   "execution_count": 8,
   "id": "9e66f7c2-430e-4726-b7b2-ac28bc48707e",
   "metadata": {},
   "outputs": [],
   "source": [
    "nuts_kernel = NUTS(challenger_model)"
   ]
  },
  {
   "cell_type": "code",
   "execution_count": 9,
   "id": "f9220541-63eb-4c03-8b49-61bcf9545543",
   "metadata": {},
   "outputs": [
    {
     "name": "stderr",
     "output_type": "stream",
     "text": [
      "Sample: 100%|████████████████████████████████████████| 2400/2400 [00:28, 84.44it/s, step size=5.35e-02, acc. prob=0.952]                                                                                    \n"
     ]
    }
   ],
   "source": [
    "mcmc = MCMC(nuts_kernel, num_samples=2000, warmup_steps=400)\n",
    "mcmc.run(temperatures, failures)"
   ]
  },
  {
   "cell_type": "code",
   "execution_count": 10,
   "id": "caa0ec74-9007-45e5-8176-0b019d5fb75f",
   "metadata": {},
   "outputs": [
    {
     "data": {
      "text/html": [
       "<div>\n",
       "<style scoped>\n",
       "    .dataframe tbody tr th:only-of-type {\n",
       "        vertical-align: middle;\n",
       "    }\n",
       "\n",
       "    .dataframe tbody tr th {\n",
       "        vertical-align: top;\n",
       "    }\n",
       "\n",
       "    .dataframe thead th {\n",
       "        text-align: right;\n",
       "    }\n",
       "</style>\n",
       "<table border=\"1\" class=\"dataframe\">\n",
       "  <thead>\n",
       "    <tr style=\"text-align: right;\">\n",
       "      <th></th>\n",
       "      <th>alpha</th>\n",
       "      <th>beta</th>\n",
       "    </tr>\n",
       "  </thead>\n",
       "  <tbody>\n",
       "    <tr>\n",
       "      <th>0</th>\n",
       "      <td>11.628547</td>\n",
       "      <td>-0.176533</td>\n",
       "    </tr>\n",
       "    <tr>\n",
       "      <th>1</th>\n",
       "      <td>11.730321</td>\n",
       "      <td>-0.188868</td>\n",
       "    </tr>\n",
       "    <tr>\n",
       "      <th>2</th>\n",
       "      <td>11.920421</td>\n",
       "      <td>-0.196618</td>\n",
       "    </tr>\n",
       "    <tr>\n",
       "      <th>3</th>\n",
       "      <td>16.690276</td>\n",
       "      <td>-0.267273</td>\n",
       "    </tr>\n",
       "    <tr>\n",
       "      <th>4</th>\n",
       "      <td>17.007251</td>\n",
       "      <td>-0.253921</td>\n",
       "    </tr>\n",
       "  </tbody>\n",
       "</table>\n",
       "</div>"
      ],
      "text/plain": [
       "       alpha      beta\n",
       "0  11.628547 -0.176533\n",
       "1  11.730321 -0.188868\n",
       "2  11.920421 -0.196618\n",
       "3  16.690276 -0.267273\n",
       "4  17.007251 -0.253921"
      ]
     },
     "execution_count": 10,
     "metadata": {},
     "output_type": "execute_result"
    }
   ],
   "source": [
    "mcmc_samples = {k: v.detach().cpu().numpy() for k, v in mcmc.get_samples().items()}\n",
    "mcmc_samples = pd.DataFrame(mcmc_samples)\n",
    "mcmc_samples.head()"
   ]
  },
  {
   "cell_type": "code",
   "execution_count": 11,
   "id": "e4b1bd63-7ab7-464d-986a-1c66d79e676b",
   "metadata": {},
   "outputs": [
    {
     "data": {
      "text/plain": [
       "array([[<AxesSubplot:title={'center':'alpha'}>,\n",
       "        <AxesSubplot:title={'center':'beta'}>]], dtype=object)"
      ]
     },
     "execution_count": 11,
     "metadata": {},
     "output_type": "execute_result"
    },
    {
     "data": {
      "image/png": "[encoded data removed]",
      "text/plain": [
       "<Figure size 432x288 with 2 Axes>"
      ]
     },
     "metadata": {
      "needs_background": "light"
     },
     "output_type": "display_data"
    }
   ],
   "source": [
    "mcmc_samples.hist()"
   ]
  },
  {
   "cell_type": "code",
   "execution_count": 12,
   "id": "1979ba0a-731e-4dc3-9308-c51d020e03ce",
   "metadata": {},
   "outputs": [
    {
     "data": {
      "text/plain": [
       "alpha    12.291793\n",
       "beta     -0.192398\n",
       "dtype: float64"
      ]
     },
     "execution_count": 12,
     "metadata": {},
     "output_type": "execute_result"
    }
   ],
   "source": [
    "mcmc_samples.mean()"
   ]
  },
  {
   "cell_type": "code",
   "execution_count": 14,
   "id": "3478a21d-c0be-407a-9c6f-fdcc267a7810",
   "metadata": {},
   "outputs": [
    {
     "name": "stdout",
     "output_type": "stream",
     "text": [
      "\n",
      "                mean       std    median      5.0%     95.0%     n_eff     r_hat\n",
      "     alpha     12.29      4.90     11.87      4.41     20.29       nan      1.00\n",
      "      beta     -0.19      0.07     -0.19     -0.31     -0.08       nan      1.00\n",
      "\n",
      "Number of divergences: 0\n"
     ]
    },
    {
     "name": "stderr",
     "output_type": "stream",
     "text": [
      "/Users/spencerbarton/Library/Caches/pypoetry/virtualenvs/bayesian-function-fit-qdzAiiby-py3.9/lib/python3.9/site-packages/pyro/infer/mcmc/util.py:498: UserWarning: Traceback (most recent call last):\n",
      "  File \"/Users/spencerbarton/Library/Caches/pypoetry/virtualenvs/bayesian-function-fit-qdzAiiby-py3.9/lib/python3.9/site-packages/pyro/infer/mcmc/util.py\", line 496, in wrapped\n",
      "    val = fn(sample, *args, **kwargs)\n",
      "  File \"/Users/spencerbarton/Library/Caches/pypoetry/virtualenvs/bayesian-function-fit-qdzAiiby-py3.9/lib/python3.9/site-packages/pyro/ops/stats.py\", line 189, in effective_sample_size\n",
      "    gamma_k_c = autocovariance(input, dim=0)  # N x C x sample_shape\n",
      "  File \"/Users/spencerbarton/Library/Caches/pypoetry/virtualenvs/bayesian-function-fit-qdzAiiby-py3.9/lib/python3.9/site-packages/pyro/ops/stats.py\", line 137, in autocovariance\n",
      "    return autocorrelation(input, dim) * input.var(dim, unbiased=False, keepdim=True)\n",
      "  File \"/Users/spencerbarton/Library/Caches/pypoetry/virtualenvs/bayesian-function-fit-qdzAiiby-py3.9/lib/python3.9/site-packages/pyro/ops/stats.py\", line 97, in autocorrelation\n",
      "    raise NotImplementedError(\n",
      "NotImplementedError: For CPU tensor, this method is only supported with MKL installed.\n",
      "\n",
      "  warnings.warn(tb.format_exc())\n"
     ]
    }
   ],
   "source": [
    "mcmc.summary()"
   ]
  },
  {
   "cell_type": "code",
   "execution_count": 23,
   "id": "d47d7598-8269-46c0-9c0c-103f7fecce8e",
   "metadata": {},
   "outputs": [
    {
     "data": {
      "text/plain": [
       "[<matplotlib.lines.Line2D at 0x28bbf2070>]"
      ]
     },
     "execution_count": 23,
     "metadata": {},
     "output_type": "execute_result"
    },
    {
     "data": {
      "image/png": "[encoded data removed]",
      "text/plain": [
       "<Figure size 432x288 with 1 Axes>"
      ]
     },
     "metadata": {
      "needs_background": "light"
     },
     "output_type": "display_data"
    }
   ],
   "source": [
    "import matplotlib.pyplot as plt\n",
    "import numpy as np\n",
    "\n",
    "_, ax = plt.subplots()\n",
    "ax.scatter(\n",
    "  x=data['Temperature'],\n",
    "  y=data['Damage Incident'],\n",
    ")\n",
    "\n",
    "temps = np.linspace(data['Temperature'].min(), data['Temperature'].max())\n",
    "means = mcmc_samples.mean()\n",
    "alpha = means['alpha'] \n",
    "beta = means['beta']\n",
    "logit = beta * temps + alpha\n",
    "curve = 1 / (1 + np.exp(-logit))\n",
    "\n",
    "plt.plot(temps, curve)"
   ]
  },
  {
   "cell_type": "code",
   "execution_count": 30,
   "id": "62f47fa7-ba67-47a9-b0ef-c6c327497e22",
   "metadata": {},
   "outputs": [
    {
     "data": {
      "text/plain": [
       "tensor([[0.9993, 0.9992, 0.9991,  ..., 0.0406, 0.0366, 0.0330],\n",
       "        [0.9991, 0.9990, 0.9989,  ..., 0.0164, 0.0146, 0.0131],\n",
       "        [0.9991, 0.9990, 0.9988,  ..., 0.0104, 0.0093, 0.0082],\n",
       "        ...,\n",
       "        [1.0000, 1.0000, 1.0000,  ..., 0.0030, 0.0025, 0.0021],\n",
       "        [1.0000, 1.0000, 1.0000,  ..., 0.0032, 0.0027, 0.0022],\n",
       "        [1.0000, 1.0000, 1.0000,  ..., 0.0016, 0.0013, 0.0011]],\n",
       "       dtype=torch.float64)"
      ]
     },
     "execution_count": 30,
     "metadata": {},
     "output_type": "execute_result"
    }
   ],
   "source": [
    "predictor = Predictive(challenger_model, mcmc.get_samples(), return_sites=[\"alpha\", \"beta\"], parallel=True)\n",
    "\n",
    "new_temperatures = torch.linspace(25, 85, 100)\n",
    "new_samples = predictor.get_samples(new_temperatures, None)\n",
    "new_logits = new_samples[\"alpha\"] + new_samples[\"beta\"] * new_temperatures\n",
    "new_probs = 1 / (1 + torch.exp(-new_logits))\n",
    "\n",
    "new_probs"
   ]
  },
  {
   "cell_type": "code",
   "execution_count": 36,
   "id": "e39f1eee-b56d-432d-a3b6-339092061e5e",
   "metadata": {},
   "outputs": [
    {
     "data": {
      "text/plain": [
       "[<matplotlib.lines.Line2D at 0x29063e100>]"
      ]
     },
     "execution_count": 36,
     "metadata": {},
     "output_type": "execute_result"
    },
    {
     "data": {
      "image/png": "[encoded data removed]",
      "text/plain": [
       "<Figure size 432x288 with 1 Axes>"
      ]
     },
     "metadata": {
      "needs_background": "light"
     },
     "output_type": "display_data"
    }
   ],
   "source": [
    "_, ax = plt.subplots()\n",
    "ax.scatter(\n",
    "  x=data['Temperature'],\n",
    "  y=data['Damage Incident'],\n",
    ")\n",
    "\n",
    "means = mcmc_samples.mean()\n",
    "alpha = means['alpha'] \n",
    "beta = means['beta']\n",
    "logit = beta * new_temperatures.numpy() + alpha\n",
    "curve = 1 / (1 + np.exp(-logit))\n",
    "\n",
    "plt.plot(new_temperatures, curve)\n",
    "\n",
    "plt.plot(new_temperatures, new_probs.mean(axis=0))"
   ]
  },
  {
   "cell_type": "code",
   "execution_count": null,
   "id": "28da0c31-c416-4a56-8b5a-6917ae18a13c",
   "metadata": {},
   "outputs": [],
   "source": []
  }
 ],
 "metadata": {
  "kernelspec": {
   "display_name": "Python 3 (ipykernel)",
   "language": "python",
   "name": "python3"
  },
  "language_info": {
   "codemirror_mode": {
    "name": "ipython",
    "version": 3
   },
   "file_extension": ".py",
   "mimetype": "text/x-python",
   "name": "python",
   "nbconvert_exporter": "python",
   "pygments_lexer": "ipython3",
   "version": "3.10.4"
  }
 },
 "nbformat": 4,
 "nbformat_minor": 5
}
